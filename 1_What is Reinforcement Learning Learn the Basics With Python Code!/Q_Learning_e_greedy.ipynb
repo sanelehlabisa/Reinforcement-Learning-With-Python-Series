{
 "cells": [
  {
   "cell_type": "code",
   "execution_count": null,
   "metadata": {},
   "outputs": [],
   "source": [
    "import numpy as np\n",
    "import random\n",
    "import matplotlib.pyplot as plt"
   ]
  },
  {
   "cell_type": "code",
   "execution_count": null,
   "metadata": {},
   "outputs": [],
   "source": [
    "rewards = np.zeros(16)\n",
    "rewards[3] = 10\n",
    "rewards[2] = -1\n",
    "rewards[11] = -1\n",
    "rewards[10] = -1\n",
    "\n",
    "terminal_state = 3\n",
    "Q_values = np.zeros((16,4))\n",
    "alpha = 0.01\n",
    "epsilon = 0.3\n",
    "\n",
    "score_log = []"
   ]
  },
  {
   "cell_type": "code",
   "execution_count": null,
   "metadata": {
    "scrolled": true
   },
   "outputs": [],
   "source": [
    "plt.imshow(rewards.reshape(4, 4))"
   ]
  },
  {
   "cell_type": "code",
   "execution_count": null,
   "metadata": {},
   "outputs": [],
   "source": [
    "state_transition_table = np.genfromtxt(\"state_transitions.csv\", delimiter=\",\").astype(int)"
   ]
  },
  {
   "cell_type": "code",
   "execution_count": null,
   "metadata": {},
   "outputs": [],
   "source": [
    "def Q_update(next_Q_values, Q_values, actions, rewards, states):\n",
    "    gamma = 0.99\n",
    "    next_Q_values = next_Q_values\n",
    "    new_Q_values = np.zeros((16,4)) + Q_values\n",
    "    for i in reversed(range(len(rewards))):\n",
    "        new_Q_values[states[i], actions[i]] = Q_values[states[i], actions[i]] + \\\n",
    "        alpha * (rewards[i] + gamma * next_Q_values - Q_values[states[i], actions[i]])\n",
    "            \n",
    "        next_Q_values = np.max(Q_values[states[i],:])\n",
    "    return new_Q_values"
   ]
  },
  {
   "cell_type": "code",
   "execution_count": null,
   "metadata": {},
   "outputs": [],
   "source": [
    "def test_agent():\n",
    "    state = 12\n",
    "    done = False\n",
    "    steps = 0\n",
    "    total_rewards = 0\n",
    "    states_log = []\n",
    "    while (not(state == terminal_state)) and steps<100:\n",
    "        states_log.append(state)\n",
    "        action = np.argmax(Q_values[state])\n",
    "        state = state_transition_table[state, action]\n",
    "        total_rewards += rewards[state]\n",
    "        steps += 1\n",
    "    states_log.append(state)\n",
    "    return total_rewards, states_log"
   ]
  },
  {
   "cell_type": "code",
   "execution_count": null,
   "metadata": {},
   "outputs": [],
   "source": [
    "for _ in range(1000):\n",
    "    state = 12\n",
    "    state_log = []\n",
    "    reward_log = []\n",
    "    action_log = []\n",
    "\n",
    "    done = False\n",
    "    steps = 0\n",
    "\n",
    "    while (not(state == terminal_state)) and steps<30:\n",
    "        z = random.random()\n",
    "        if z >=epsilon:\n",
    "            action = np.argmax(Q_values[state])\n",
    "        else:\n",
    "            action = random.randint(0,3)\n",
    "        state_log.append(state)\n",
    "        action_log.append(action)\n",
    "\n",
    "        state = state_transition_table[state, action]\n",
    "        reward_log.append(rewards[state])\n",
    "\n",
    "        steps += 1\n",
    "\n",
    "    next_Q_values = np.max(Q_values[state])\n",
    "    Q_values = Q_update(next_Q_values, Q_values, action_log, reward_log, state_log)\n",
    "    \n",
    "    score_log.append(test_agent()[0])"
   ]
  },
  {
   "cell_type": "code",
   "execution_count": null,
   "metadata": {},
   "outputs": [],
   "source": [
    "fig, ax1 = plt.subplots(1)\n",
    "fig.set_size_inches(18.5, 10.5)\n",
    "ax1.imshow(Q_values)\n",
    "\n",
    "for (j,i), label in np.ndenumerate(Q_values.round(1)):\n",
    "    ax1.text(i,j,label,ha='center',va='center')"
   ]
  },
  {
   "cell_type": "code",
   "execution_count": null,
   "metadata": {},
   "outputs": [],
   "source": [
    "plt.plot(score_log)"
   ]
  },
  {
   "cell_type": "code",
   "execution_count": null,
   "metadata": {},
   "outputs": [],
   "source": [
    "_, state_log = test_agent()\n",
    "state_view = np.zeros(16)\n",
    "state_view[state_log] = 1\n",
    "plt.imshow(state_view.reshape(4,4))"
   ]
  },
  {
   "cell_type": "code",
   "execution_count": null,
   "metadata": {},
   "outputs": [],
   "source": []
  }
 ],
 "metadata": {
  "kernelspec": {
   "display_name": "Python 3",
   "language": "python",
   "name": "python3"
  },
  "language_info": {
   "codemirror_mode": {
    "name": "ipython",
    "version": 3
   },
   "file_extension": ".py",
   "mimetype": "text/x-python",
   "name": "python",
   "nbconvert_exporter": "python",
   "pygments_lexer": "ipython3",
   "version": "3.6.9"
  }
 },
 "nbformat": 4,
 "nbformat_minor": 4
}
