{
 "cells": [
  {
   "cell_type": "code",
   "execution_count": null,
   "metadata": {},
   "outputs": [],
   "source": [
    "import numpy as np\n",
    "import random\n",
    "import matplotlib.pyplot as plt"
   ]
  },
  {
   "cell_type": "code",
   "execution_count": null,
   "metadata": {},
   "outputs": [],
   "source": [
    "rewards = np.zeros(16)\n",
    "rewards[3] = 1\n",
    "rewards[2] = 0\n",
    "rewards[11] = 0\n",
    "rewards[10] = 0\n",
    "\n",
    "terminal_state = 3\n",
    "state_values = np.zeros(16)\n",
    "score_log = []"
   ]
  },
  {
   "cell_type": "code",
   "execution_count": null,
   "metadata": {},
   "outputs": [],
   "source": [
    "plt.imshow(rewards.reshape(4,4))"
   ]
  },
  {
   "cell_type": "code",
   "execution_count": null,
   "metadata": {},
   "outputs": [],
   "source": [
    "state_transition_table = np.genfromtxt(\"state_transitions.csv\", delimiter=\",\").astype(int)"
   ]
  },
  {
   "cell_type": "code",
   "execution_count": null,
   "metadata": {},
   "outputs": [],
   "source": [
    "def returns(values, rewards, states):\n",
    "    state_count = np.zeros(16)\n",
    "    state_returns = np.zeros(16)\n",
    "    r = 0\n",
    "    gamma = 0.9\n",
    "    for i in reversed(range(len(rewards))):\n",
    "        r = rewards[i] + gamma * r\n",
    "        state_returns[states[i]] += r\n",
    "        state_count[states[i]] += 1\n",
    "#         print(states[i])\n",
    "\n",
    "    return state_returns/(state_count + 1e-10)"
   ]
  },
  {
   "cell_type": "code",
   "execution_count": null,
   "metadata": {},
   "outputs": [],
   "source": [
    "def test_agent():\n",
    "    state = 12\n",
    "    done = False\n",
    "    steps = 0\n",
    "    total_rewards = 0\n",
    "    states_log = []\n",
    "    while (not(state == terminal_state)) and steps<30:\n",
    "        states_log.append(state)\n",
    "        action = np.argmax(state_values[state_transition_table[state]])\n",
    "        state = state_transition_table[state, action]\n",
    "        total_rewards += rewards[state]\n",
    "        steps += 1\n",
    "    states_log.append(state)\n",
    "    return total_rewards, states_log"
   ]
  },
  {
   "cell_type": "code",
   "execution_count": null,
   "metadata": {},
   "outputs": [],
   "source": [
    "returns_log = []\n",
    "for _ in range(100):\n",
    "    state = 12\n",
    "    state_log = []\n",
    "    reward_log = []\n",
    "    steps = 0\n",
    "\n",
    "    while (not(state == terminal_state)) and steps<30:\n",
    "        reward_log.append(rewards[state])\n",
    "        state_log.append(state)\n",
    "        \n",
    "        action = random.randint(0,3)\n",
    "        state = state_transition_table[state, action]\n",
    "        steps += 1\n",
    "        \n",
    "    reward_log.append(rewards[state])\n",
    "    state_log.append(state)\n",
    "    returns_log.append(returns(state_values, reward_log, state_log))\n",
    "    state_values = np.mean(returns_log, 0)\n",
    "    \n",
    "    score_log.append(test_agent()[0])"
   ]
  },
  {
   "cell_type": "code",
   "execution_count": null,
   "metadata": {},
   "outputs": [],
   "source": [
    "plt.imshow(returns_log[4].reshape(4, 4))"
   ]
  },
  {
   "cell_type": "code",
   "execution_count": null,
   "metadata": {},
   "outputs": [],
   "source": [
    "fig1, ax1= plt.subplots(1)\n",
    "ax1.imshow(state_values.reshape(4, 4))\n",
    "\n",
    "for (j,i), label in np.ndenumerate(state_values.reshape(4, 4).round(2)):\n",
    "    ax1.text(i,j,label,ha='center',va='center')"
   ]
  },
  {
   "cell_type": "code",
   "execution_count": null,
   "metadata": {},
   "outputs": [],
   "source": [
    "plt.plot(score_log)"
   ]
  },
  {
   "cell_type": "code",
   "execution_count": null,
   "metadata": {},
   "outputs": [],
   "source": [
    "_, state_log = test_agent()\n",
    "state_view = np.zeros(16)\n",
    "state_view[state_log] = 1\n",
    "plt.imshow(state_view.reshape(4,4))"
   ]
  },
  {
   "cell_type": "code",
   "execution_count": null,
   "metadata": {},
   "outputs": [],
   "source": []
  }
 ],
 "metadata": {
  "kernelspec": {
   "display_name": "Python 3",
   "language": "python",
   "name": "python3"
  },
  "language_info": {
   "codemirror_mode": {
    "name": "ipython",
    "version": 3
   },
   "file_extension": ".py",
   "mimetype": "text/x-python",
   "name": "python",
   "nbconvert_exporter": "python",
   "pygments_lexer": "ipython3",
   "version": "3.6.9"
  }
 },
 "nbformat": 4,
 "nbformat_minor": 4
}
