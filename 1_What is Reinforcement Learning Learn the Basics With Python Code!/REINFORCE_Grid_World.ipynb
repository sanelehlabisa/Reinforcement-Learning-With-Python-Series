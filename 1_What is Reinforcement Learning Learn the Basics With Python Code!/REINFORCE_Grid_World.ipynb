{
 "cells": [
  {
   "cell_type": "code",
   "execution_count": null,
   "metadata": {},
   "outputs": [],
   "source": [
    "import numpy as np\n",
    "import random\n",
    "import matplotlib.pyplot as plt\n",
    "from scipy.special import softmax"
   ]
  },
  {
   "cell_type": "code",
   "execution_count": null,
   "metadata": {},
   "outputs": [],
   "source": [
    "rewards = np.zeros(16)\n",
    "rewards[3] = 10\n",
    "rewards[2] = -1\n",
    "rewards[11] = -1\n",
    "rewards[10] = -1\n",
    "\n",
    "terminal_state = 3\n",
    "state_action_logprobs = np.random.random((16,4))\n",
    "alpha = 0.005\n",
    "\n",
    "score_log = []"
   ]
  },
  {
   "cell_type": "code",
   "execution_count": null,
   "metadata": {
    "scrolled": true
   },
   "outputs": [],
   "source": [
    "plt.imshow(rewards.reshape(4, 4))"
   ]
  },
  {
   "cell_type": "code",
   "execution_count": null,
   "metadata": {},
   "outputs": [],
   "source": [
    "state_transition_table = np.genfromtxt(\"state_transitions.csv\", delimiter=\",\").astype(int)"
   ]
  },
  {
   "cell_type": "code",
   "execution_count": null,
   "metadata": {},
   "outputs": [],
   "source": [
    "def returns_calc(rewards):\n",
    "    returns = []\n",
    "    R = 0\n",
    "    gamma = 0.9\n",
    "    for i in reversed(range(len(rewards))):\n",
    "        R = rewards[i] + gamma * R\n",
    "        returns.insert(0, R)\n",
    "    return returns"
   ]
  },
  {
   "cell_type": "code",
   "execution_count": null,
   "metadata": {},
   "outputs": [],
   "source": [
    "def test_agent():\n",
    "    state = 12\n",
    "    done = False\n",
    "    steps = 0\n",
    "    total_rewards = 0\n",
    "    states_log = []\n",
    "    while (not(state == terminal_state)) and steps<30:\n",
    "        states_log.append(state)\n",
    "        action = np.argmax(np.random.multinomial(1, softmax(state_action_logprobs[state]), size=1))\n",
    "        state = state_transition_table[state, action]\n",
    "        total_rewards += rewards[state]\n",
    "        steps += 1\n",
    "    states_log.append(state)\n",
    "    return total_rewards, states_log"
   ]
  },
  {
   "cell_type": "code",
   "execution_count": null,
   "metadata": {},
   "outputs": [],
   "source": [
    "for _ in range(1000):\n",
    "    state = 12\n",
    "    state_log = []\n",
    "    reward_log = []\n",
    "    action_log = []\n",
    "    values_log = []\n",
    "\n",
    "    steps = 0\n",
    "\n",
    "    while (not(state == terminal_state)) and steps<30:\n",
    "        action = np.argmax(np.random.multinomial(1, softmax(state_action_logprobs[state]), size=1))\n",
    "        \n",
    "        state_log.append(state)\n",
    "        action_log.append(action)\n",
    "\n",
    "        state = state_transition_table[state, action]\n",
    "        reward_log.append(rewards[state])\n",
    "\n",
    "        steps += 1\n",
    "            \n",
    "    state_returns = returns_calc(reward_log)\n",
    "    advantage = np.array(state_returns)\n",
    "    \n",
    "    state_action_logprobs[state_log, action_log] = state_action_logprobs[state_log, action_log] + alpha*advantage\n",
    "    \n",
    "    score_log.append(test_agent()[0])"
   ]
  },
  {
   "cell_type": "code",
   "execution_count": null,
   "metadata": {},
   "outputs": [],
   "source": [
    "fig, ax1 = plt.subplots(1)\n",
    "fig.set_size_inches(18.5, 10.5)\n",
    "ax1.imshow(softmax(state_action_logprobs, 1).reshape(16, 4))\n",
    "\n",
    "for (j,i), label in np.ndenumerate(softmax(state_action_logprobs, 1).reshape(16, 4).round(1)):\n",
    "    ax1.text(i,j,label,ha='center',va='center')"
   ]
  },
  {
   "cell_type": "code",
   "execution_count": null,
   "metadata": {},
   "outputs": [],
   "source": [
    "plt.plot(score_log)"
   ]
  },
  {
   "cell_type": "code",
   "execution_count": null,
   "metadata": {},
   "outputs": [],
   "source": [
    "_, state_log = test_agent()\n",
    "state_view = np.zeros(16)\n",
    "state_view[state_log] = 1\n",
    "plt.imshow(state_view.reshape(4,4))"
   ]
  },
  {
   "cell_type": "code",
   "execution_count": null,
   "metadata": {},
   "outputs": [],
   "source": []
  }
 ],
 "metadata": {
  "kernelspec": {
   "display_name": "Python 3",
   "language": "python",
   "name": "python3"
  },
  "language_info": {
   "codemirror_mode": {
    "name": "ipython",
    "version": 3
   },
   "file_extension": ".py",
   "mimetype": "text/x-python",
   "name": "python",
   "nbconvert_exporter": "python",
   "pygments_lexer": "ipython3",
   "version": "3.6.9"
  }
 },
 "nbformat": 4,
 "nbformat_minor": 4
}
